{
 "cells": [
  {
   "cell_type": "code",
   "execution_count": 7,
   "id": "f777b43f",
   "metadata": {},
   "outputs": [],
   "source": [
    "#importing Libraries\n",
    "import pandas as pd\n",
    "import os\n",
    "import sys\n",
    "\n",
    "#import local libraries\n",
    "#Adding scripts path\n",
    "sys.path.append(os.path.abspath(os.path.join('..')))\n",
    "#importing dvc_data_loader script\n",
    "# from scripts.dvc_data_loader import *\n",
    "from Scripts.data_information import DataInfo\n",
    "from Scripts.data_loader import load_df_from_csv\n",
    "#from Scripts.data_manipulation import DataManipulator\n",
    "from Scripts.data_cleaner import DataCleaner\n",
    "from Scripts.utlity_functions import convert_to_month_name\n",
    "from Scripts.grapher import *\n",
    "from sklearn import preprocessing\n",
    "import warnings\n",
    "warnings.filterwarnings('ignore')"
   ]
  },
  {
   "cell_type": "code",
   "execution_count": 8,
   "id": "dcf20a57",
   "metadata": {},
   "outputs": [
    {
     "name": "stdout",
     "output_type": "stream",
     "text": [
      "<class 'pandas.core.frame.DataFrame'>\n",
      "RangeIndex: 1017209 entries, 0 to 1017208\n",
      "Data columns (total 9 columns):\n",
      " #   Column         Non-Null Count    Dtype \n",
      "---  ------         --------------    ----- \n",
      " 0   Store          1017209 non-null  uint16\n",
      " 1   DayOfWeek      1017209 non-null  uint8 \n",
      " 2   Date           1017209 non-null  object\n",
      " 3   Sales          1017209 non-null  uint16\n",
      " 4   Customers      1017209 non-null  uint16\n",
      " 5   Open           1017209 non-null  uint8 \n",
      " 6   Promo          1017209 non-null  uint8 \n",
      " 7   StateHoliday   1017209 non-null  object\n",
      " 8   SchoolHoliday  1017209 non-null  uint8 \n",
      "dtypes: object(2), uint16(3), uint8(4)\n",
      "memory usage: 25.2+ MB\n"
     ]
    }
   ],
   "source": [
    "combined_df = load_df_from_csv('../data/train.csv')\n",
    "combined_df.info()"
   ]
  },
  {
   "cell_type": "code",
   "execution_count": null,
   "id": "93718dd5",
   "metadata": {},
   "outputs": [],
   "source": []
  }
 ],
 "metadata": {
  "kernelspec": {
   "display_name": "Python 3 (ipykernel)",
   "language": "python",
   "name": "python3"
  },
  "language_info": {
   "codemirror_mode": {
    "name": "ipython",
    "version": 3
   },
   "file_extension": ".py",
   "mimetype": "text/x-python",
   "name": "python",
   "nbconvert_exporter": "python",
   "pygments_lexer": "ipython3",
   "version": "3.8.13"
  }
 },
 "nbformat": 4,
 "nbformat_minor": 5
}
