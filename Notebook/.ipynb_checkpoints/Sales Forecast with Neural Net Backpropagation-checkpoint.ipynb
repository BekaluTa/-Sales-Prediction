{
 "cells": [
  {
   "cell_type": "markdown",
   "id": "2650c167",
   "metadata": {},
   "source": [
    "Id - an Id that represents a (Store, Date) duple within the test set\n",
    "\n",
    "Store - a unique Id for each store\n",
    "\n",
    "Sales - the turnover for any given day (this is what you are predicting)\n",
    "\n",
    "Customers - the number of customers on a given day\n",
    "\n",
    "Open - an indicator for whether the store was open: 0 = closed, 1 = open\n",
    "\n",
    "StateHoliday - indicates a state holiday. Normally all stores, with few exceptions, are closed on state holidays. Note that all schools are closed on public holidays and weekends. a = public holiday, b = Easter holiday, c = Christmas, 0 = None\n",
    "\n",
    "SchoolHoliday - indicates if the (Store, Date) was affected by the closure of public schools\n",
    "\n",
    "StoreType - differentiates between 4 different store models: a, b, c, d\n",
    "\n",
    "Assortment - describes an assortment level: a = basic, b = extra, c = extended\n",
    "\n",
    "CompetitionDistance - distance in meters to the nearest competitor store\n",
    "\n",
    "CompetitionOpenSince[Month/Year] - gives the approximate year and month of the time the nearest competitor was opened\n",
    "\n",
    "Promo - indicates whether a store is running a promo on that day\n",
    "\n",
    "Promo2 - Promo2 is a continuing and consecutive promotion for some stores: 0 = store is not participating, 1 = store is participating\n",
    "\n",
    "Promo2Since[Year/Week] - describes the year and calendar week when the store started participating in Promo2\n",
    "\n",
    "PromoInterval-describes the consecutive intervals Promo2 is started, naming the months the promotion is started anew. E.g. \"Feb,May,Aug,Nov\" means each round starts in February, May, August, November of any given year for that store"
   ]
  },
  {
   "cell_type": "code",
   "execution_count": 1,
   "id": "29492f09",
   "metadata": {},
   "outputs": [],
   "source": [
    "import bs4"
   ]
  },
  {
   "cell_type": "code",
   "execution_count": 4,
   "id": "8f539860",
   "metadata": {},
   "outputs": [],
   "source": [
    "# Ignore Warnings\n",
    "import warnings\n",
    "warnings.filterwarnings(\"ignore\")\n",
    "\n",
    "# Handle table like data and matrices\n",
    "import numpy as np\n",
    "import pandas as pd\n",
    "import math\n",
    "\n",
    "# Modelling Algorithm\n",
    "from sklearn.tree import DecisionTreeRegressor\n",
    "from sklearn.neural_network import MLPRegressor\n",
    "from sklearn.linear_model import LogisticRegression\n",
    "from sklearn.neighbors import KNeighborsRegressor\n",
    "from sklearn.ensemble import RandomForestRegressor, GradientBoostingRegressor\n",
    "\n",
    "# Modelling Helpers\n",
    "#from sklearn.preprocessing import Imputer\n",
    "#from sklearn.preprocessing import Normalizer\n",
    "from sklearn.model_selection import train_test_split\n",
    "from sklearn.feature_selection import RFECV\n",
    "\n",
    "# Visualization\n",
    "import seaborn as sns\n",
    "import matplotlib.pyplot as plt\n",
    "import matplotlib as mpl\n",
    "\n",
    "# Visualization Configuration\n",
    "%matplotlib inline\n",
    "mpl.style.use(\"ggplot\")\n",
    "sns.set_style(\"white\")\n",
    "plt.rcParams[\"figure.figsize\"] = 12, 8"
   ]
  },
  {
   "cell_type": "code",
   "execution_count": 5,
   "id": "c6b6695b",
   "metadata": {},
   "outputs": [
    {
     "data": {
      "text/html": [
       "<div>\n",
       "<style scoped>\n",
       "    .dataframe tbody tr th:only-of-type {\n",
       "        vertical-align: middle;\n",
       "    }\n",
       "\n",
       "    .dataframe tbody tr th {\n",
       "        vertical-align: top;\n",
       "    }\n",
       "\n",
       "    .dataframe thead th {\n",
       "        text-align: right;\n",
       "    }\n",
       "</style>\n",
       "<table border=\"1\" class=\"dataframe\">\n",
       "  <thead>\n",
       "    <tr style=\"text-align: right;\">\n",
       "      <th></th>\n",
       "      <th>Store</th>\n",
       "      <th>DayOfWeek</th>\n",
       "      <th>Date</th>\n",
       "      <th>Sales</th>\n",
       "      <th>Customers</th>\n",
       "      <th>Open</th>\n",
       "      <th>Promo</th>\n",
       "      <th>StateHoliday</th>\n",
       "      <th>SchoolHoliday</th>\n",
       "    </tr>\n",
       "  </thead>\n",
       "  <tbody>\n",
       "    <tr>\n",
       "      <th>0</th>\n",
       "      <td>1</td>\n",
       "      <td>5</td>\n",
       "      <td>2015-07-31</td>\n",
       "      <td>5263</td>\n",
       "      <td>555</td>\n",
       "      <td>1</td>\n",
       "      <td>1</td>\n",
       "      <td>0</td>\n",
       "      <td>1</td>\n",
       "    </tr>\n",
       "    <tr>\n",
       "      <th>1</th>\n",
       "      <td>2</td>\n",
       "      <td>5</td>\n",
       "      <td>2015-07-31</td>\n",
       "      <td>6064</td>\n",
       "      <td>625</td>\n",
       "      <td>1</td>\n",
       "      <td>1</td>\n",
       "      <td>0</td>\n",
       "      <td>1</td>\n",
       "    </tr>\n",
       "    <tr>\n",
       "      <th>2</th>\n",
       "      <td>3</td>\n",
       "      <td>5</td>\n",
       "      <td>2015-07-31</td>\n",
       "      <td>8314</td>\n",
       "      <td>821</td>\n",
       "      <td>1</td>\n",
       "      <td>1</td>\n",
       "      <td>0</td>\n",
       "      <td>1</td>\n",
       "    </tr>\n",
       "    <tr>\n",
       "      <th>3</th>\n",
       "      <td>4</td>\n",
       "      <td>5</td>\n",
       "      <td>2015-07-31</td>\n",
       "      <td>13995</td>\n",
       "      <td>1498</td>\n",
       "      <td>1</td>\n",
       "      <td>1</td>\n",
       "      <td>0</td>\n",
       "      <td>1</td>\n",
       "    </tr>\n",
       "    <tr>\n",
       "      <th>4</th>\n",
       "      <td>5</td>\n",
       "      <td>5</td>\n",
       "      <td>2015-07-31</td>\n",
       "      <td>4822</td>\n",
       "      <td>559</td>\n",
       "      <td>1</td>\n",
       "      <td>1</td>\n",
       "      <td>0</td>\n",
       "      <td>1</td>\n",
       "    </tr>\n",
       "  </tbody>\n",
       "</table>\n",
       "</div>"
      ],
      "text/plain": [
       "   Store  DayOfWeek        Date  Sales  Customers  Open  Promo StateHoliday  \\\n",
       "0      1          5  2015-07-31   5263        555     1      1            0   \n",
       "1      2          5  2015-07-31   6064        625     1      1            0   \n",
       "2      3          5  2015-07-31   8314        821     1      1            0   \n",
       "3      4          5  2015-07-31  13995       1498     1      1            0   \n",
       "4      5          5  2015-07-31   4822        559     1      1            0   \n",
       "\n",
       "   SchoolHoliday  \n",
       "0              1  \n",
       "1              1  \n",
       "2              1  \n",
       "3              1  \n",
       "4              1  "
      ]
     },
     "execution_count": 5,
     "metadata": {},
     "output_type": "execute_result"
    }
   ],
   "source": [
    "# Read the file\n",
    "df = pd.read_csv(\"../Data/train.csv\")\n",
    "store = pd.read_csv(\"../Data/store.csv\")\n",
    "test = pd.read_csv(\"../Data/test.csv\")\n",
    "\n",
    "# check the first 5 rows\n",
    "df.head()"
   ]
  },
  {
   "cell_type": "code",
   "execution_count": 6,
   "id": "6195292c",
   "metadata": {},
   "outputs": [
    {
     "data": {
      "text/plain": [
       "<AxesSubplot:xlabel='Promo', ylabel='Sales'>"
      ]
     },
     "execution_count": 6,
     "metadata": {},
     "output_type": "execute_result"
    },
    {
     "data": {
      "image/png": "[encoded data removed]",
      "text/plain": [
       "<Figure size 864x576 with 1 Axes>"
      ]
     },
     "metadata": {},
     "output_type": "display_data"
    }
   ],
   "source": [
    "sns.barplot(x='Promo', y='Sales', data=df)"
   ]
  },
  {
   "cell_type": "code",
   "execution_count": 7,
   "id": "93b662c4",
   "metadata": {},
   "outputs": [
    {
     "data": {
      "text/plain": [
       "<seaborn.axisgrid.FacetGrid at 0x25b29ec4f40>"
      ]
     },
     "execution_count": 7,
     "metadata": {},
     "output_type": "execute_result"
    },
    {
     "data": {
      "image/png": "[encoded data removed]",
      "text/plain": [
       "<Figure size 761.625x720 with 1 Axes>"
      ]
     },
     "metadata": {},
     "output_type": "display_data"
    }
   ],
   "source": [
    "sns.factorplot(x='DayOfWeek', y='Sales', data=df, hue='Promo', size=10)"
   ]
  },
  {
   "cell_type": "code",
   "execution_count": 8,
   "id": "54285e73",
   "metadata": {},
   "outputs": [
    {
     "data": {
      "text/plain": [
       "<AxesSubplot:xlabel='DayOfWeek', ylabel='Sales'>"
      ]
     },
     "execution_count": 8,
     "metadata": {},
     "output_type": "execute_result"
    },
    {
     "data": {
      "image/png": "[encoded data removed]",
      "text/plain": [
       "<Figure size 864x720 with 1 Axes>"
      ]
     },
     "metadata": {},
     "output_type": "display_data"
    }
   ],
   "source": [
    "plt.rcParams['figure.figsize'] = (12,10)\n",
    "sns.boxplot(x='DayOfWeek', y='Sales', data=df, hue='Promo')"
   ]
  },
  {
   "cell_type": "markdown",
   "id": "3d9565bf",
   "metadata": {},
   "source": [
    "Based on the visuals above, the first thing that jumps out here is the company dosen't run any promotiions on the weekends and in terms of comparison promotion has huge effect on sales on monday and very lesss on friday"
   ]
  },
  {
   "cell_type": "code",
   "execution_count": 9,
   "id": "127d9bc0",
   "metadata": {},
   "outputs": [
    {
     "data": {
      "text/plain": [
       "<seaborn.axisgrid.FacetGrid at 0x25b4acf5910>"
      ]
     },
     "execution_count": 9,
     "metadata": {},
     "output_type": "execute_result"
    },
    {
     "data": {
      "image/png": "[encoded data removed]",
      "text/plain": [
       "<Figure size 761.625x720 with 1 Axes>"
      ]
     },
     "metadata": {},
     "output_type": "display_data"
    }
   ],
   "source": [
    "sns.factorplot(x='DayOfWeek', y='Customers', hue='Promo', data=df, size=10)"
   ]
  },
  {
   "cell_type": "code",
   "execution_count": 10,
   "id": "8aebf6eb",
   "metadata": {},
   "outputs": [
    {
     "data": {
      "text/plain": [
       "array(['2015-07-31', '2015-07-30', '2015-07-29', '2015-07-28',\n",
       "       '2015-07-27', '2015-07-26', '2015-07-25', '2015-07-24',\n",
       "       '2015-07-23', '2015-07-22', '2015-07-21', '2015-07-20',\n",
       "       '2015-07-19', '2015-07-18', '2015-07-17', '2015-07-16',\n",
       "       '2015-07-15', '2015-07-14', '2015-07-13', '2015-07-12',\n",
       "       '2015-07-11', '2015-07-10', '2015-07-09', '2015-07-08',\n",
       "       '2015-07-07', '2015-07-06', '2015-07-05', '2015-07-04',\n",
       "       '2015-07-03', '2015-07-02', '2015-07-01', '2015-06-30',\n",
       "       '2015-06-29', '2015-06-28', '2015-06-27', '2015-06-26',\n",
       "       '2015-06-25', '2015-06-24', '2015-06-23', '2015-06-22',\n",
       "       '2015-06-21', '2015-06-20', '2015-06-19', '2015-06-18',\n",
       "       '2015-06-17', '2015-06-16', '2015-06-15', '2015-06-14',\n",
       "       '2015-06-13', '2015-06-12', '2015-06-11', '2015-06-10',\n",
       "       '2015-06-09', '2015-06-08', '2015-06-07', '2015-06-06',\n",
       "       '2015-06-05', '2015-06-04', '2015-06-03', '2015-06-02',\n",
       "       '2015-06-01', '2015-05-31', '2015-05-30', '2015-05-29',\n",
       "       '2015-05-28', '2015-05-27', '2015-05-26', '2015-05-25',\n",
       "       '2015-05-24', '2015-05-23', '2015-05-22', '2015-05-21',\n",
       "       '2015-05-20', '2015-05-19', '2015-05-18', '2015-05-17',\n",
       "       '2015-05-16', '2015-05-15', '2015-05-14', '2015-05-13',\n",
       "       '2015-05-12', '2015-05-11', '2015-05-10', '2015-05-09',\n",
       "       '2015-05-08', '2015-05-07', '2015-05-06', '2015-05-05',\n",
       "       '2015-05-04', '2015-05-03', '2015-05-02', '2015-05-01',\n",
       "       '2015-04-30', '2015-04-29', '2015-04-28', '2015-04-27',\n",
       "       '2015-04-26', '2015-04-25', '2015-04-24', '2015-04-23',\n",
       "       '2015-04-22', '2015-04-21', '2015-04-20', '2015-04-19',\n",
       "       '2015-04-18', '2015-04-17', '2015-04-16', '2015-04-15',\n",
       "       '2015-04-14', '2015-04-13', '2015-04-12', '2015-04-11',\n",
       "       '2015-04-10', '2015-04-09', '2015-04-08', '2015-04-07',\n",
       "       '2015-04-06', '2015-04-05', '2015-04-04', '2015-04-03',\n",
       "       '2015-04-02', '2015-04-01', '2015-03-31', '2015-03-30',\n",
       "       '2015-03-29', '2015-03-28', '2015-03-27', '2015-03-26',\n",
       "       '2015-03-25', '2015-03-24', '2015-03-23', '2015-03-22',\n",
       "       '2015-03-21', '2015-03-20', '2015-03-19', '2015-03-18',\n",
       "       '2015-03-17', '2015-03-16', '2015-03-15', '2015-03-14',\n",
       "       '2015-03-13', '2015-03-12', '2015-03-11', '2015-03-10',\n",
       "       '2015-03-09', '2015-03-08', '2015-03-07', '2015-03-06',\n",
       "       '2015-03-05', '2015-03-04', '2015-03-03', '2015-03-02',\n",
       "       '2015-03-01', '2015-02-28', '2015-02-27', '2015-02-26',\n",
       "       '2015-02-25', '2015-02-24', '2015-02-23', '2015-02-22',\n",
       "       '2015-02-21', '2015-02-20', '2015-02-19', '2015-02-18',\n",
       "       '2015-02-17', '2015-02-16', '2015-02-15', '2015-02-14',\n",
       "       '2015-02-13', '2015-02-12', '2015-02-11', '2015-02-10',\n",
       "       '2015-02-09', '2015-02-08', '2015-02-07', '2015-02-06',\n",
       "       '2015-02-05', '2015-02-04', '2015-02-03', '2015-02-02',\n",
       "       '2015-02-01', '2015-01-31', '2015-01-30', '2015-01-29',\n",
       "       '2015-01-28', '2015-01-27', '2015-01-26', '2015-01-25',\n",
       "       '2015-01-24', '2015-01-23', '2015-01-22', '2015-01-21',\n",
       "       '2015-01-20', '2015-01-19', '2015-01-18', '2015-01-17',\n",
       "       '2015-01-16', '2015-01-15', '2015-01-14', '2015-01-13',\n",
       "       '2015-01-12', '2015-01-11', '2015-01-10', '2015-01-09',\n",
       "       '2015-01-08', '2015-01-07', '2015-01-06', '2015-01-05',\n",
       "       '2015-01-04', '2015-01-03', '2015-01-02', '2015-01-01',\n",
       "       '2014-12-31', '2014-12-30', '2014-12-29', '2014-12-28',\n",
       "       '2014-12-27', '2014-12-26', '2014-12-25', '2014-12-24',\n",
       "       '2014-12-23', '2014-12-22', '2014-12-21', '2014-12-20',\n",
       "       '2014-12-19', '2014-12-18', '2014-12-17', '2014-12-16',\n",
       "       '2014-12-15', '2014-12-14', '2014-12-13', '2014-12-12',\n",
       "       '2014-12-11', '2014-12-10', '2014-12-09', '2014-12-08',\n",
       "       '2014-12-07', '2014-12-06', '2014-12-05', '2014-12-04',\n",
       "       '2014-12-03', '2014-12-02', '2014-12-01', '2014-11-30',\n",
       "       '2014-11-29', '2014-11-28', '2014-11-27', '2014-11-26',\n",
       "       '2014-11-25', '2014-11-24', '2014-11-23', '2014-11-22',\n",
       "       '2014-11-21', '2014-11-20', '2014-11-19', '2014-11-18',\n",
       "       '2014-11-17', '2014-11-16', '2014-11-15', '2014-11-14',\n",
       "       '2014-11-13', '2014-11-12', '2014-11-11', '2014-11-10',\n",
       "       '2014-11-09', '2014-11-08', '2014-11-07', '2014-11-06',\n",
       "       '2014-11-05', '2014-11-04', '2014-11-03', '2014-11-02',\n",
       "       '2014-11-01', '2014-10-31', '2014-10-30', '2014-10-29',\n",
       "       '2014-10-28', '2014-10-27', '2014-10-26', '2014-10-25',\n",
       "       '2014-10-24', '2014-10-23', '2014-10-22', '2014-10-21',\n",
       "       '2014-10-20', '2014-10-19', '2014-10-18', '2014-10-17',\n",
       "       '2014-10-16', '2014-10-15', '2014-10-14', '2014-10-13',\n",
       "       '2014-10-12', '2014-10-11', '2014-10-10', '2014-10-09',\n",
       "       '2014-10-08', '2014-10-07', '2014-10-06', '2014-10-05',\n",
       "       '2014-10-04', '2014-10-03', '2014-10-02', '2014-10-01',\n",
       "       '2014-09-30', '2014-09-29', '2014-09-28', '2014-09-27',\n",
       "       '2014-09-26', '2014-09-25', '2014-09-24', '2014-09-23',\n",
       "       '2014-09-22', '2014-09-21', '2014-09-20', '2014-09-19',\n",
       "       '2014-09-18', '2014-09-17', '2014-09-16', '2014-09-15',\n",
       "       '2014-09-14', '2014-09-13', '2014-09-12', '2014-09-11',\n",
       "       '2014-09-10', '2014-09-09', '2014-09-08', '2014-09-07',\n",
       "       '2014-09-06', '2014-09-05', '2014-09-04', '2014-09-03',\n",
       "       '2014-09-02', '2014-09-01', '2014-08-31', '2014-08-30',\n",
       "       '2014-08-29', '2014-08-28', '2014-08-27', '2014-08-26',\n",
       "       '2014-08-25', '2014-08-24', '2014-08-23', '2014-08-22',\n",
       "       '2014-08-21', '2014-08-20', '2014-08-19', '2014-08-18',\n",
       "       '2014-08-17', '2014-08-16', '2014-08-15', '2014-08-14',\n",
       "       '2014-08-13', '2014-08-12', '2014-08-11', '2014-08-10',\n",
       "       '2014-08-09', '2014-08-08', '2014-08-07', '2014-08-06',\n",
       "       '2014-08-05', '2014-08-04', '2014-08-03', '2014-08-02',\n",
       "       '2014-08-01', '2014-07-31', '2014-07-30', '2014-07-29',\n",
       "       '2014-07-28', '2014-07-27', '2014-07-26', '2014-07-25',\n",
       "       '2014-07-24', '2014-07-23', '2014-07-22', '2014-07-21',\n",
       "       '2014-07-20', '2014-07-19', '2014-07-18', '2014-07-17',\n",
       "       '2014-07-16', '2014-07-15', '2014-07-14', '2014-07-13',\n",
       "       '2014-07-12', '2014-07-11', '2014-07-10', '2014-07-09',\n",
       "       '2014-07-08', '2014-07-07', '2014-07-06', '2014-07-05',\n",
       "       '2014-07-04', '2014-07-03', '2014-07-02', '2014-07-01',\n",
       "       '2014-06-30', '2014-06-29', '2014-06-28', '2014-06-27',\n",
       "       '2014-06-26', '2014-06-25', '2014-06-24', '2014-06-23',\n",
       "       '2014-06-22', '2014-06-21', '2014-06-20', '2014-06-19',\n",
       "       '2014-06-18', '2014-06-17', '2014-06-16', '2014-06-15',\n",
       "       '2014-06-14', '2014-06-13', '2014-06-12', '2014-06-11',\n",
       "       '2014-06-10', '2014-06-09', '2014-06-08', '2014-06-07',\n",
       "       '2014-06-06', '2014-06-05', '2014-06-04', '2014-06-03',\n",
       "       '2014-06-02', '2014-06-01', '2014-05-31', '2014-05-30',\n",
       "       '2014-05-29', '2014-05-28', '2014-05-27', '2014-05-26',\n",
       "       '2014-05-25', '2014-05-24', '2014-05-23', '2014-05-22',\n",
       "       '2014-05-21', '2014-05-20', '2014-05-19', '2014-05-18',\n",
       "       '2014-05-17', '2014-05-16', '2014-05-15', '2014-05-14',\n",
       "       '2014-05-13', '2014-05-12', '2014-05-11', '2014-05-10',\n",
       "       '2014-05-09', '2014-05-08', '2014-05-07', '2014-05-06',\n",
       "       '2014-05-05', '2014-05-04', '2014-05-03', '2014-05-02',\n",
       "       '2014-05-01', '2014-04-30', '2014-04-29', '2014-04-28',\n",
       "       '2014-04-27', '2014-04-26', '2014-04-25', '2014-04-24',\n",
       "       '2014-04-23', '2014-04-22', '2014-04-21', '2014-04-20',\n",
       "       '2014-04-19', '2014-04-18', '2014-04-17', '2014-04-16',\n",
       "       '2014-04-15', '2014-04-14', '2014-04-13', '2014-04-12',\n",
       "       '2014-04-11', '2014-04-10', '2014-04-09', '2014-04-08',\n",
       "       '2014-04-07', '2014-04-06', '2014-04-05', '2014-04-04',\n",
       "       '2014-04-03', '2014-04-02', '2014-04-01', '2014-03-31',\n",
       "       '2014-03-30', '2014-03-29', '2014-03-28', '2014-03-27',\n",
       "       '2014-03-26', '2014-03-25', '2014-03-24', '2014-03-23',\n",
       "       '2014-03-22', '2014-03-21', '2014-03-20', '2014-03-19',\n",
       "       '2014-03-18', '2014-03-17', '2014-03-16', '2014-03-15',\n",
       "       '2014-03-14', '2014-03-13', '2014-03-12', '2014-03-11',\n",
       "       '2014-03-10', '2014-03-09', '2014-03-08', '2014-03-07',\n",
       "       '2014-03-06', '2014-03-05', '2014-03-04', '2014-03-03',\n",
       "       '2014-03-02', '2014-03-01', '2014-02-28', '2014-02-27',\n",
       "       '2014-02-26', '2014-02-25', '2014-02-24', '2014-02-23',\n",
       "       '2014-02-22', '2014-02-21', '2014-02-20', '2014-02-19',\n",
       "       '2014-02-18', '2014-02-17', '2014-02-16', '2014-02-15',\n",
       "       '2014-02-14', '2014-02-13', '2014-02-12', '2014-02-11',\n",
       "       '2014-02-10', '2014-02-09', '2014-02-08', '2014-02-07',\n",
       "       '2014-02-06', '2014-02-05', '2014-02-04', '2014-02-03',\n",
       "       '2014-02-02', '2014-02-01', '2014-01-31', '2014-01-30',\n",
       "       '2014-01-29', '2014-01-28', '2014-01-27', '2014-01-26',\n",
       "       '2014-01-25', '2014-01-24', '2014-01-23', '2014-01-22',\n",
       "       '2014-01-21', '2014-01-20', '2014-01-19', '2014-01-18',\n",
       "       '2014-01-17', '2014-01-16', '2014-01-15', '2014-01-14',\n",
       "       '2014-01-13', '2014-01-12', '2014-01-11', '2014-01-10',\n",
       "       '2014-01-09', '2014-01-08', '2014-01-07', '2014-01-06',\n",
       "       '2014-01-05', '2014-01-04', '2014-01-03', '2014-01-02',\n",
       "       '2014-01-01', '2013-12-31', '2013-12-30', '2013-12-29',\n",
       "       '2013-12-28', '2013-12-27', '2013-12-26', '2013-12-25',\n",
       "       '2013-12-24', '2013-12-23', '2013-12-22', '2013-12-21',\n",
       "       '2013-12-20', '2013-12-19', '2013-12-18', '2013-12-17',\n",
       "       '2013-12-16', '2013-12-15', '2013-12-14', '2013-12-13',\n",
       "       '2013-12-12', '2013-12-11', '2013-12-10', '2013-12-09',\n",
       "       '2013-12-08', '2013-12-07', '2013-12-06', '2013-12-05',\n",
       "       '2013-12-04', '2013-12-03', '2013-12-02', '2013-12-01',\n",
       "       '2013-11-30', '2013-11-29', '2013-11-28', '2013-11-27',\n",
       "       '2013-11-26', '2013-11-25', '2013-11-24', '2013-11-23',\n",
       "       '2013-11-22', '2013-11-21', '2013-11-20', '2013-11-19',\n",
       "       '2013-11-18', '2013-11-17', '2013-11-16', '2013-11-15',\n",
       "       '2013-11-14', '2013-11-13', '2013-11-12', '2013-11-11',\n",
       "       '2013-11-10', '2013-11-09', '2013-11-08', '2013-11-07',\n",
       "       '2013-11-06', '2013-11-05', '2013-11-04', '2013-11-03',\n",
       "       '2013-11-02', '2013-11-01', '2013-10-31', '2013-10-30',\n",
       "       '2013-10-29', '2013-10-28', '2013-10-27', '2013-10-26',\n",
       "       '2013-10-25', '2013-10-24', '2013-10-23', '2013-10-22',\n",
       "       '2013-10-21', '2013-10-20', '2013-10-19', '2013-10-18',\n",
       "       '2013-10-17', '2013-10-16', '2013-10-15', '2013-10-14',\n",
       "       '2013-10-13', '2013-10-12', '2013-10-11', '2013-10-10',\n",
       "       '2013-10-09', '2013-10-08', '2013-10-07', '2013-10-06',\n",
       "       '2013-10-05', '2013-10-04', '2013-10-03', '2013-10-02',\n",
       "       '2013-10-01', '2013-09-30', '2013-09-29', '2013-09-28',\n",
       "       '2013-09-27', '2013-09-26', '2013-09-25', '2013-09-24',\n",
       "       '2013-09-23', '2013-09-22', '2013-09-21', '2013-09-20',\n",
       "       '2013-09-19', '2013-09-18', '2013-09-17', '2013-09-16',\n",
       "       '2013-09-15', '2013-09-14', '2013-09-13', '2013-09-12',\n",
       "       '2013-09-11', '2013-09-10', '2013-09-09', '2013-09-08',\n",
       "       '2013-09-07', '2013-09-06', '2013-09-05', '2013-09-04',\n",
       "       '2013-09-03', '2013-09-02', '2013-09-01', '2013-08-31',\n",
       "       '2013-08-30', '2013-08-29', '2013-08-28', '2013-08-27',\n",
       "       '2013-08-26', '2013-08-25', '2013-08-24', '2013-08-23',\n",
       "       '2013-08-22', '2013-08-21', '2013-08-20', '2013-08-19',\n",
       "       '2013-08-18', '2013-08-17', '2013-08-16', '2013-08-15',\n",
       "       '2013-08-14', '2013-08-13', '2013-08-12', '2013-08-11',\n",
       "       '2013-08-10', '2013-08-09', '2013-08-08', '2013-08-07',\n",
       "       '2013-08-06', '2013-08-05', '2013-08-04', '2013-08-03',\n",
       "       '2013-08-02', '2013-08-01', '2013-07-31', '2013-07-30',\n",
       "       '2013-07-29', '2013-07-28', '2013-07-27', '2013-07-26',\n",
       "       '2013-07-25', '2013-07-24', '2013-07-23', '2013-07-22',\n",
       "       '2013-07-21', '2013-07-20', '2013-07-19', '2013-07-18',\n",
       "       '2013-07-17', '2013-07-16', '2013-07-15', '2013-07-14',\n",
       "       '2013-07-13', '2013-07-12', '2013-07-11', '2013-07-10',\n",
       "       '2013-07-09', '2013-07-08', '2013-07-07', '2013-07-06',\n",
       "       '2013-07-05', '2013-07-04', '2013-07-03', '2013-07-02',\n",
       "       '2013-07-01', '2013-06-30', '2013-06-29', '2013-06-28',\n",
       "       '2013-06-27', '2013-06-26', '2013-06-25', '2013-06-24',\n",
       "       '2013-06-23', '2013-06-22', '2013-06-21', '2013-06-20',\n",
       "       '2013-06-19', '2013-06-18', '2013-06-17', '2013-06-16',\n",
       "       '2013-06-15', '2013-06-14', '2013-06-13', '2013-06-12',\n",
       "       '2013-06-11', '2013-06-10', '2013-06-09', '2013-06-08',\n",
       "       '2013-06-07', '2013-06-06', '2013-06-05', '2013-06-04',\n",
       "       '2013-06-03', '2013-06-02', '2013-06-01', '2013-05-31',\n",
       "       '2013-05-30', '2013-05-29', '2013-05-28', '2013-05-27',\n",
       "       '2013-05-26', '2013-05-25', '2013-05-24', '2013-05-23',\n",
       "       '2013-05-22', '2013-05-21', '2013-05-20', '2013-05-19',\n",
       "       '2013-05-18', '2013-05-17', '2013-05-16', '2013-05-15',\n",
       "       '2013-05-14', '2013-05-13', '2013-05-12', '2013-05-11',\n",
       "       '2013-05-10', '2013-05-09', '2013-05-08', '2013-05-07',\n",
       "       '2013-05-06', '2013-05-05', '2013-05-04', '2013-05-03',\n",
       "       '2013-05-02', '2013-05-01', '2013-04-30', '2013-04-29',\n",
       "       '2013-04-28', '2013-04-27', '2013-04-26', '2013-04-25',\n",
       "       '2013-04-24', '2013-04-23', '2013-04-22', '2013-04-21',\n",
       "       '2013-04-20', '2013-04-19', '2013-04-18', '2013-04-17',\n",
       "       '2013-04-16', '2013-04-15', '2013-04-14', '2013-04-13',\n",
       "       '2013-04-12', '2013-04-11', '2013-04-10', '2013-04-09',\n",
       "       '2013-04-08', '2013-04-07', '2013-04-06', '2013-04-05',\n",
       "       '2013-04-04', '2013-04-03', '2013-04-02', '2013-04-01',\n",
       "       '2013-03-31', '2013-03-30', '2013-03-29', '2013-03-28',\n",
       "       '2013-03-27', '2013-03-26', '2013-03-25', '2013-03-24',\n",
       "       '2013-03-23', '2013-03-22', '2013-03-21', '2013-03-20',\n",
       "       '2013-03-19', '2013-03-18', '2013-03-17', '2013-03-16',\n",
       "       '2013-03-15', '2013-03-14', '2013-03-13', '2013-03-12',\n",
       "       '2013-03-11', '2013-03-10', '2013-03-09', '2013-03-08',\n",
       "       '2013-03-07', '2013-03-06', '2013-03-05', '2013-03-04',\n",
       "       '2013-03-03', '2013-03-02', '2013-03-01', '2013-02-28',\n",
       "       '2013-02-27', '2013-02-26', '2013-02-25', '2013-02-24',\n",
       "       '2013-02-23', '2013-02-22', '2013-02-21', '2013-02-20',\n",
       "       '2013-02-19', '2013-02-18', '2013-02-17', '2013-02-16',\n",
       "       '2013-02-15', '2013-02-14', '2013-02-13', '2013-02-12',\n",
       "       '2013-02-11', '2013-02-10', '2013-02-09', '2013-02-08',\n",
       "       '2013-02-07', '2013-02-06', '2013-02-05', '2013-02-04',\n",
       "       '2013-02-03', '2013-02-02', '2013-02-01', '2013-01-31',\n",
       "       '2013-01-30', '2013-01-29', '2013-01-28', '2013-01-27',\n",
       "       '2013-01-26', '2013-01-25', '2013-01-24', '2013-01-23',\n",
       "       '2013-01-22', '2013-01-21', '2013-01-20', '2013-01-19',\n",
       "       '2013-01-18', '2013-01-17', '2013-01-16', '2013-01-15',\n",
       "       '2013-01-14', '2013-01-13', '2013-01-12', '2013-01-11',\n",
       "       '2013-01-10', '2013-01-09', '2013-01-08', '2013-01-07',\n",
       "       '2013-01-06', '2013-01-05', '2013-01-04', '2013-01-03',\n",
       "       '2013-01-02', '2013-01-01'], dtype=object)"
      ]
     },
     "execution_count": 10,
     "metadata": {},
     "output_type": "execute_result"
    }
   ],
   "source": [
    "df.Date.unique()"
   ]
  },
  {
   "cell_type": "code",
   "execution_count": 11,
   "id": "a40486df",
   "metadata": {},
   "outputs": [
    {
     "name": "stdout",
     "output_type": "stream",
     "text": [
      "DayOfWeek\n",
      "[5 4 3 2 1 7 6]\n",
      "-------\n",
      "SchoolHoliday\n",
      "[1 0]\n",
      "-------\n",
      "StateHoliday\n",
      "['0' 'a' 'b' 'c' 0]\n",
      "-------\n",
      "Open\n",
      "[1 0]\n",
      "-------\n",
      "Promo\n",
      "[1 0]\n",
      "-------\n"
     ]
    }
   ],
   "source": [
    "# check the unique data in the following column\n",
    "cols = [\"DayOfWeek\", \"SchoolHoliday\", \"StateHoliday\", \"Open\", \"Promo\"]\n",
    "\n",
    "for col in cols:\n",
    "    print(col)\n",
    "    print(df[col].unique())\n",
    "    print(\"-------\")"
   ]
  },
  {
   "cell_type": "code",
   "execution_count": 12,
   "id": "bdfa8eaa",
   "metadata": {},
   "outputs": [
    {
     "data": {
      "text/plain": [
       "1115"
      ]
     },
     "execution_count": 12,
     "metadata": {},
     "output_type": "execute_result"
    }
   ],
   "source": [
    "# check the no of stores in the data\n",
    "df['Store'].nunique()"
   ]
  },
  {
   "cell_type": "code",
   "execution_count": 13,
   "id": "654ae5ea",
   "metadata": {},
   "outputs": [
    {
     "name": "stdout",
     "output_type": "stream",
     "text": [
      "<class 'pandas.core.frame.DataFrame'>\n",
      "RangeIndex: 1017209 entries, 0 to 1017208\n",
      "Data columns (total 9 columns):\n",
      " #   Column         Non-Null Count    Dtype \n",
      "---  ------         --------------    ----- \n",
      " 0   Store          1017209 non-null  int64 \n",
      " 1   DayOfWeek      1017209 non-null  int64 \n",
      " 2   Date           1017209 non-null  object\n",
      " 3   Sales          1017209 non-null  int64 \n",
      " 4   Customers      1017209 non-null  int64 \n",
      " 5   Open           1017209 non-null  int64 \n",
      " 6   Promo          1017209 non-null  int64 \n",
      " 7   StateHoliday   1017209 non-null  object\n",
      " 8   SchoolHoliday  1017209 non-null  int64 \n",
      "dtypes: int64(7), object(2)\n",
      "memory usage: 69.8+ MB\n"
     ]
    }
   ],
   "source": [
    "df.info()"
   ]
  },
  {
   "cell_type": "code",
   "execution_count": null,
   "id": "ef4273d3",
   "metadata": {},
   "outputs": [],
   "source": []
  }
 ],
 "metadata": {
  "kernelspec": {
   "display_name": "Python 3 (ipykernel)",
   "language": "python",
   "name": "python3"
  },
  "language_info": {
   "codemirror_mode": {
    "name": "ipython",
    "version": 3
   },
   "file_extension": ".py",
   "mimetype": "text/x-python",
   "name": "python",
   "nbconvert_exporter": "python",
   "pygments_lexer": "ipython3",
   "version": "3.8.13"
  }
 },
 "nbformat": 4,
 "nbformat_minor": 5
}
